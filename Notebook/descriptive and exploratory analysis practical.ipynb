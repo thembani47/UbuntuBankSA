{
 "cells": [
  {
   "cell_type": "markdown",
   "id": "d1816a58-2199-42f8-a087-c3a32e028a9b",
   "metadata": {},
   "source": [
    "# Adoption Data Exploration (Learner Notebook)\n",
    "\n",
    "Welcome!  \n",
    "This notebook is for you to **practice and demonstrate** your skills in **data cleaning and exploratory data analysis (EDA)**.\n",
    "\n",
    "You will:  \n",
    "1. Load the data  \n",
    "2. Clean and prepare the data  \n",
    "3. Perform descriptive statistics  \n",
    "4. Explore adoption patterns  \n",
    "5. Summarize insights  \n",
    "\n",
    "**Note:**  \n",
    "- You will be guided step by step.  \n",
    "- Write your own code — the notebook will not do the work for you.  \n"
   ]
  },
  {
   "cell_type": "markdown",
   "id": "67aa46e9-2d2f-45b3-a57a-93f86b9ed146",
   "metadata": {},
   "source": [
    "## 1. Setup\n",
    "Import the libraries you’ll need.\n",
    "\n",
    "Tasks:\n",
    "- Import `pandas`, `numpy`, `matplotlib.pyplot`, `seaborn`\n",
    "- Configure plots (e.g., `sns.set_style(\"whitegrid\")`)"
   ]
  },
  {
   "cell_type": "code",
   "execution_count": null,
   "id": "1d064ae5-4fc5-4506-85e9-1748be5aba3e",
   "metadata": {},
   "outputs": [],
   "source": [
    "# Your code here\n"
   ]
  },
  {
   "cell_type": "markdown",
   "id": "6e6aa529-912f-4f5c-8a6a-c6f9adacba8e",
   "metadata": {},
   "source": [
    "## 2. Load the Data\n",
    "Load the dataset(s) you’ve been provided.\n",
    "\n",
    "Tasks:\n",
    "- Load the data into one or more pandas DataFrames  \n",
    "- Display the first 5 rows to inspect the data\n"
   ]
  },
  {
   "cell_type": "code",
   "execution_count": null,
   "id": "10850114-f548-459b-a1f7-4cd982cd4cbf",
   "metadata": {},
   "outputs": [],
   "source": [
    "# Your code here\n"
   ]
  },
  {
   "cell_type": "markdown",
   "id": "dcc5bf00-ff6d-4c74-a63a-d6364b8d0a4c",
   "metadata": {},
   "source": [
    "## 3. Inspect the Data\n",
    "Before analysis, you need to understand the structure.\n",
    "\n",
    "Tasks:\n",
    "- Check `.shape` and `.info()`  \n",
    "- List the column names  \n",
    "- Check missing values (`.isna().sum()`)  \n",
    "- Identify duplicate rows (`.duplicated().sum()`)\n"
   ]
  },
  {
   "cell_type": "code",
   "execution_count": null,
   "id": "b74729f0-243d-4db0-abfd-a632f2e82541",
   "metadata": {},
   "outputs": [],
   "source": [
    "# Your code here\n"
   ]
  },
  {
   "cell_type": "markdown",
   "id": "e2ca3b70-13f6-4753-ad14-9070e0ef1672",
   "metadata": {},
   "source": [
    "## 4. Data Cleaning\n",
    "Now it’s time to clean your data.\n",
    "\n",
    "Tasks:\n",
    "- Handle missing values (decide: drop, fill, or leave them)  \n",
    "- Remove duplicates if necessary  \n",
    "- Convert columns to correct data types (numeric, categorical, dates, etc.)  \n",
    "- If there are categorical columns (like bands or industries), validate categories  \n",
    "- (Optional) Detect outliers in numeric columns\n"
   ]
  },
  {
   "cell_type": "code",
   "execution_count": null,
   "id": "47f02aca-1707-49b5-97f3-c90cda3c8d79",
   "metadata": {},
   "outputs": [],
   "source": [
    "# Your code here\n"
   ]
  },
  {
   "cell_type": "markdown",
   "id": "ce59f4d6-39ae-4b3e-b439-054f5f0bb111",
   "metadata": {},
   "source": [
    "## 5. Descriptive Statistics\n",
    "Explore your numeric variables.\n",
    "\n",
    "Tasks:\n",
    "- Use `.describe()` to summarize numeric columns  \n",
    "- Find min, max, mean, median of key columns  \n",
    "- Comment on what you observe\n"
   ]
  },
  {
   "cell_type": "code",
   "execution_count": null,
   "id": "c70b520b-c217-4da6-9f11-7b0183c58628",
   "metadata": {},
   "outputs": [],
   "source": [
    "# Your code here\n"
   ]
  },
  {
   "cell_type": "markdown",
   "id": "cce3f43f-8c60-4bd1-a2e4-58b9dafc6929",
   "metadata": {},
   "source": [
    "## 6. Categorical Variables\n",
    "Look at distributions of categories.\n",
    "\n",
    "Tasks:\n",
    "- Count unique values (`.value_counts()`) for categorical columns  \n",
    "- Create bar plots to visualize the frequency of categories\n"
   ]
  },
  {
   "cell_type": "code",
   "execution_count": null,
   "id": "589a80b0-b1d5-4bf8-853b-332e7267e735",
   "metadata": {},
   "outputs": [],
   "source": [
    "# Your code here\n"
   ]
  },
  {
   "cell_type": "markdown",
   "id": "abafddb6-6171-4e31-ac6a-96869ef2b470",
   "metadata": {},
   "source": [
    "## 7. Adoption Patterns\n",
    "Explore adoption in the data.\n",
    "\n",
    "Tasks:\n",
    "- Calculate the **overall adoption rate**  \n",
    "- Compare adoption across one or more categorical variables (e.g., groupby a category)  \n",
    "- Create bar plots to show adoption rates\n"
   ]
  },
  {
   "cell_type": "code",
   "execution_count": null,
   "id": "2f67fc20-4619-4d73-9903-64cb409584ef",
   "metadata": {},
   "outputs": [],
   "source": [
    "# Your code here\n"
   ]
  },
  {
   "cell_type": "markdown",
   "id": "add5741c-adbe-4c2b-8347-a0fb2550b18b",
   "metadata": {},
   "source": [
    "## 8. Behavioural Comparisons\n",
    "Compare behaviours between adopters and non-adopters.\n",
    "\n",
    "Tasks:\n",
    "- Compare averages (e.g., balances or transaction counts) for adopters vs non-adopters  \n",
    "- Use plots (boxplot, violin plot, histogram) to visualize differences  \n",
    "- Write down your observations\n"
   ]
  },
  {
   "cell_type": "code",
   "execution_count": null,
   "id": "27a1032c-0c24-4d96-b094-03366fe199d5",
   "metadata": {},
   "outputs": [],
   "source": [
    "# Your code here\n"
   ]
  },
  {
   "cell_type": "markdown",
   "id": "f33c06fd-7aed-4ae5-992e-95de68bd86b3",
   "metadata": {},
   "source": [
    "## 9. Correlation Exploration\n",
    "Check relationships between variables.\n",
    "\n",
    "Tasks:\n",
    "- Create a DataFrame with only numeric columns  \n",
    "- Calculate correlations using `.corr()`  \n",
    "- Plot a heatmap with `seaborn`  \n",
    "- Identify and comment on interesting correlations\n"
   ]
  },
  {
   "cell_type": "code",
   "execution_count": null,
   "id": "9e90065f-be32-4dcb-af96-cfcde257b2d4",
   "metadata": {},
   "outputs": [],
   "source": [
    "# Your code here\n"
   ]
  },
  {
   "cell_type": "markdown",
   "id": "5e43bcc4-5237-48dc-aad2-9b6490f1955e",
   "metadata": {},
   "source": [
    "## 10. Insights & Reflection\n",
    "Now summarize what you’ve found.\n",
    "\n",
    "Tasks:\n",
    "- Write **3–5 bullet points** with your insights from the analysis  \n",
    "- Reflect on:\n",
    "  - Which variables are strongly related to adoption?  \n",
    "  - What data cleaning steps had the biggest impact?  \n",
    "  - What would you investigate further with more time?\n"
   ]
  },
  {
   "cell_type": "markdown",
   "id": "d0e46a0f-08ad-421e-a42e-d34ec577ebaf",
   "metadata": {},
   "source": [
    "**(Double Click to write your answer here)**\n"
   ]
  },
  {
   "cell_type": "markdown",
   "id": "97a5971e-c38f-4258-8cbc-369f8d16ab31",
   "metadata": {},
   "source": [
    "# End of Notebook\n",
    "\n",
    "You have:  \n",
    "- Loaded and cleaned the data  \n",
    "- Explored the dataset with descriptive statistics and EDA  \n",
    "- Visualized adoption patterns  \n",
    "- Summarized key insights  \n",
    "\n",
    "This demonstrates your ability to apply **data cleaning and analysis** skills independently.\n"
   ]
  }
 ],
 "metadata": {
  "kernelspec": {
   "display_name": "Python 3 (ipykernel)",
   "language": "python",
   "name": "python3"
  },
  "language_info": {
   "codemirror_mode": {
    "name": "ipython",
    "version": 3
   },
   "file_extension": ".py",
   "mimetype": "text/x-python",
   "name": "python",
   "nbconvert_exporter": "python",
   "pygments_lexer": "ipython3",
   "version": "3.13.5"
  }
 },
 "nbformat": 4,
 "nbformat_minor": 5
}
